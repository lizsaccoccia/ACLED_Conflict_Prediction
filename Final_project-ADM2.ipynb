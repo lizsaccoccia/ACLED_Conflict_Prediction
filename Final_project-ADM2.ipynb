{
 "cells": [
  {
   "cell_type": "code",
   "execution_count": 2,
   "metadata": {},
   "outputs": [
    {
     "name": "stderr",
     "output_type": "stream",
     "text": [
      "DEBUG:matplotlib:CACHEDIR=/Users/elizabethsaccoccia/.matplotlib\n",
      "DEBUG:matplotlib.font_manager:Using fontManager instance from /Users/elizabethsaccoccia/.matplotlib/fontList.json\n",
      "DEBUG:matplotlib.backends:backend module://ipykernel.pylab.backend_inline version unknown\n",
      "DEBUG:matplotlib.backends:backend module://ipykernel.pylab.backend_inline version unknown\n"
     ]
    }
   ],
   "source": [
    "import pandas as pd\n",
    "import requests\n",
    "import sys\n",
    "import logging\n",
    "import os\n",
    "logging.basicConfig(stream=sys.stderr, level=logging.DEBUG)\n",
    "#import cartoframes\n",
    "from sklearn.linear_model import LinearRegression\n",
    "import numpy as np\n",
    "import seaborn as sns\n",
    "import matplotlib.pyplot as plt\n",
    "%matplotlib inline\n",
    "from sklearn.model_selection import train_test_split\n",
    "from sklearn import metrics"
   ]
  },
  {
   "cell_type": "code",
   "execution_count": 52,
   "metadata": {
    "scrolled": true
   },
   "outputs": [
    {
     "data": {
      "text/html": [
       "<div>\n",
       "<style>\n",
       "    .dataframe thead tr:only-child th {\n",
       "        text-align: right;\n",
       "    }\n",
       "\n",
       "    .dataframe thead th {\n",
       "        text-align: left;\n",
       "    }\n",
       "\n",
       "    .dataframe tbody tr th {\n",
       "        vertical-align: top;\n",
       "    }\n",
       "</style>\n",
       "<table border=\"1\" class=\"dataframe\">\n",
       "  <thead>\n",
       "    <tr style=\"text-align: right;\">\n",
       "      <th></th>\n",
       "      <th>2015_events</th>\n",
       "    </tr>\n",
       "    <tr>\n",
       "      <th>index</th>\n",
       "      <th></th>\n",
       "    </tr>\n",
       "  </thead>\n",
       "  <tbody>\n",
       "    <tr>\n",
       "      <th>Somalia</th>\n",
       "      <td>2356</td>\n",
       "    </tr>\n",
       "    <tr>\n",
       "      <th>Nigeria</th>\n",
       "      <td>1672</td>\n",
       "    </tr>\n",
       "    <tr>\n",
       "      <th>Burundi</th>\n",
       "      <td>1542</td>\n",
       "    </tr>\n",
       "    <tr>\n",
       "      <th>South Africa</th>\n",
       "      <td>1486</td>\n",
       "    </tr>\n",
       "    <tr>\n",
       "      <th>Libya</th>\n",
       "      <td>1396</td>\n",
       "    </tr>\n",
       "  </tbody>\n",
       "</table>\n",
       "</div>"
      ],
      "text/plain": [
       "              2015_events\n",
       "index                    \n",
       "Somalia              2356\n",
       "Nigeria              1672\n",
       "Burundi              1542\n",
       "South Africa         1486\n",
       "Libya                1396"
      ]
     },
     "execution_count": 52,
     "metadata": {},
     "output_type": "execute_result"
    }
   ],
   "source": [
    "# Prepare ACLED 2015 Data\n",
    "ACLED = pd.read_csv('ACLED_2015_Africa.csv')\n",
    "#count nulls\n",
    "ACLED.isnull().sum()\n",
    "#drop columns with null values\n",
    "ACLED = ACLED.dropna(axis=0, subset=['notes'])\n",
    "ACLED_SUM15 = ACLED.country.value_counts()\n",
    "ACLED_SUM15 = ACLED_SUM15.reset_index()\n",
    "ACLED_SUM15.rename(columns={'country': '2015_events'}, inplace=True)\n",
    "ACLED_SUM15.set_index('index', inplace = True)\n",
    "ACLED_SUM15.head()"
   ]
  },
  {
   "cell_type": "code",
   "execution_count": 53,
   "metadata": {},
   "outputs": [
    {
     "data": {
      "text/html": [
       "<div>\n",
       "<style>\n",
       "    .dataframe thead tr:only-child th {\n",
       "        text-align: right;\n",
       "    }\n",
       "\n",
       "    .dataframe thead th {\n",
       "        text-align: left;\n",
       "    }\n",
       "\n",
       "    .dataframe tbody tr th {\n",
       "        vertical-align: top;\n",
       "    }\n",
       "</style>\n",
       "<table border=\"1\" class=\"dataframe\">\n",
       "  <thead>\n",
       "    <tr style=\"text-align: right;\">\n",
       "      <th></th>\n",
       "      <th>2015_events</th>\n",
       "    </tr>\n",
       "  </thead>\n",
       "  <tbody>\n",
       "    <tr>\n",
       "      <th>count</th>\n",
       "      <td>49.000000</td>\n",
       "    </tr>\n",
       "    <tr>\n",
       "      <th>mean</th>\n",
       "      <td>344.081633</td>\n",
       "    </tr>\n",
       "    <tr>\n",
       "      <th>std</th>\n",
       "      <td>556.256155</td>\n",
       "    </tr>\n",
       "    <tr>\n",
       "      <th>min</th>\n",
       "      <td>1.000000</td>\n",
       "    </tr>\n",
       "    <tr>\n",
       "      <th>25%</th>\n",
       "      <td>25.000000</td>\n",
       "    </tr>\n",
       "    <tr>\n",
       "      <th>50%</th>\n",
       "      <td>75.000000</td>\n",
       "    </tr>\n",
       "    <tr>\n",
       "      <th>75%</th>\n",
       "      <td>362.000000</td>\n",
       "    </tr>\n",
       "    <tr>\n",
       "      <th>max</th>\n",
       "      <td>2356.000000</td>\n",
       "    </tr>\n",
       "  </tbody>\n",
       "</table>\n",
       "</div>"
      ],
      "text/plain": [
       "       2015_events\n",
       "count    49.000000\n",
       "mean    344.081633\n",
       "std     556.256155\n",
       "min       1.000000\n",
       "25%      25.000000\n",
       "50%      75.000000\n",
       "75%     362.000000\n",
       "max    2356.000000"
      ]
     },
     "execution_count": 53,
     "metadata": {},
     "output_type": "execute_result"
    }
   ],
   "source": [
    "ACLED_SUM15.describe()"
   ]
  },
  {
   "cell_type": "code",
   "execution_count": 7,
   "metadata": {
    "scrolled": true
   },
   "outputs": [
    {
     "data": {
      "text/html": [
       "<div>\n",
       "<style>\n",
       "    .dataframe thead tr:only-child th {\n",
       "        text-align: right;\n",
       "    }\n",
       "\n",
       "    .dataframe thead th {\n",
       "        text-align: left;\n",
       "    }\n",
       "\n",
       "    .dataframe tbody tr th {\n",
       "        vertical-align: top;\n",
       "    }\n",
       "</style>\n",
       "<table border=\"1\" class=\"dataframe\">\n",
       "  <thead>\n",
       "    <tr style=\"text-align: right;\">\n",
       "      <th></th>\n",
       "      <th>2016_events</th>\n",
       "    </tr>\n",
       "    <tr>\n",
       "      <th>index</th>\n",
       "      <th></th>\n",
       "    </tr>\n",
       "  </thead>\n",
       "  <tbody>\n",
       "    <tr>\n",
       "      <th>Somalia</th>\n",
       "      <td>2661</td>\n",
       "    </tr>\n",
       "    <tr>\n",
       "      <th>Sudan</th>\n",
       "      <td>1431</td>\n",
       "    </tr>\n",
       "    <tr>\n",
       "      <th>South Africa</th>\n",
       "      <td>1418</td>\n",
       "    </tr>\n",
       "    <tr>\n",
       "      <th>Nigeria</th>\n",
       "      <td>1402</td>\n",
       "    </tr>\n",
       "    <tr>\n",
       "      <th>Ethiopia</th>\n",
       "      <td>1225</td>\n",
       "    </tr>\n",
       "  </tbody>\n",
       "</table>\n",
       "</div>"
      ],
      "text/plain": [
       "              2016_events\n",
       "index                    \n",
       "Somalia              2661\n",
       "Sudan                1431\n",
       "South Africa         1418\n",
       "Nigeria              1402\n",
       "Ethiopia             1225"
      ]
     },
     "execution_count": 7,
     "metadata": {},
     "output_type": "execute_result"
    }
   ],
   "source": [
    "# Prepare ACLED 2016 Data\n",
    "ACLED16 = pd.read_csv('ACLED_2016_Africa.csv')\n",
    "#count nulls\n",
    "ACLED16.isnull().sum()\n",
    "#drop columns with null values\n",
    "ACLED16 = ACLED16.dropna(axis=0, subset=['notes'])\n",
    "ACLED_SUM16 = ACLED16.country.value_counts()\n",
    "ACLED_SUM16 = ACLED_SUM16.reset_index()\n",
    "ACLED_SUM16.rename(columns={'country': '2016_events'}, inplace=True)\n",
    "ACLED_SUM16.set_index('index', inplace = True)\n",
    "ACLED_SUM16.head()"
   ]
  },
  {
   "cell_type": "code",
   "execution_count": 8,
   "metadata": {
    "scrolled": true
   },
   "outputs": [
    {
     "data": {
      "text/plain": [
       "[Text(0,0.5,'Number of Events in 2016'), Text(0.5,0,'Countries')]"
      ]
     },
     "execution_count": 8,
     "metadata": {},
     "output_type": "execute_result"
    },
    {
     "name": "stderr",
     "output_type": "stream",
     "text": [
      "DEBUG:matplotlib.font_manager:findfont: Matching :family=sans-serif:style=normal:variant=normal:weight=normal:stretch=normal:size=10.0 to Arial ('/Library/Fonts/Arial.ttf') with score of 0.050000\n",
      "DEBUG:matplotlib.font_manager:findfont: Matching :family=sans-serif:style=normal:variant=normal:weight=normal:stretch=normal:size=11.0 to Arial ('/Library/Fonts/Arial.ttf') with score of 0.050000\n"
     ]
    },
    {
     "data": {
      "image/png": "[encoded data removed]",
      "text/plain": [
       "<Figure size 720x144 with 1 Axes>"
      ]
     },
     "metadata": {},
     "output_type": "display_data"
    }
   ],
   "source": [
    "ax = ACLED_SUM16.plot.bar(lw=2, colormap='jet',figsize=(10,2))\n",
    "ax.set(xlabel='Countries', ylabel=\"Number of Events in 2016\")"
   ]
  },
  {
   "cell_type": "code",
   "execution_count": 9,
   "metadata": {},
   "outputs": [
    {
     "data": {
      "text/plain": [
       "Index(['data_id', 'iso', 'event_id_cnty', 'event_id_no_cnty', 'event_date',\n",
       "       'year', 'time_precision', 'event_type', 'actor1', 'assoc_actor_1',\n",
       "       'inter1', 'actor2', 'assoc_actor_2', 'inter2', 'interaction', 'region',\n",
       "       'country', 'admin1', 'admin2', 'admin3', 'location', 'latitude',\n",
       "       'longitude', 'geo_precision', 'source', 'source_scale', 'notes',\n",
       "       'fatalities', 'timestamp', 'iso3'],\n",
       "      dtype='object')"
      ]
     },
     "execution_count": 9,
     "metadata": {},
     "output_type": "execute_result"
    }
   ],
   "source": [
    "ACLED16.columns"
   ]
  },
  {
   "cell_type": "code",
   "execution_count": 10,
   "metadata": {
    "scrolled": true
   },
   "outputs": [
    {
     "data": {
      "text/html": [
       "<div>\n",
       "<style>\n",
       "    .dataframe thead tr:only-child th {\n",
       "        text-align: right;\n",
       "    }\n",
       "\n",
       "    .dataframe thead th {\n",
       "        text-align: left;\n",
       "    }\n",
       "\n",
       "    .dataframe tbody tr th {\n",
       "        vertical-align: top;\n",
       "    }\n",
       "</style>\n",
       "<table border=\"1\" class=\"dataframe\">\n",
       "  <thead>\n",
       "    <tr style=\"text-align: right;\">\n",
       "      <th></th>\n",
       "      <th>fsi</th>\n",
       "    </tr>\n",
       "    <tr>\n",
       "      <th>rw_country_name</th>\n",
       "      <th></th>\n",
       "    </tr>\n",
       "  </thead>\n",
       "  <tbody>\n",
       "    <tr>\n",
       "      <th>Netherlands</th>\n",
       "      <td>26.9</td>\n",
       "    </tr>\n",
       "    <tr>\n",
       "      <th>Bolivia</th>\n",
       "      <td>78.1</td>\n",
       "    </tr>\n",
       "    <tr>\n",
       "      <th>Greece</th>\n",
       "      <td>52.6</td>\n",
       "    </tr>\n",
       "    <tr>\n",
       "      <th>Libya</th>\n",
       "      <td>95.3</td>\n",
       "    </tr>\n",
       "    <tr>\n",
       "      <th>Moldova</th>\n",
       "      <td>73.0</td>\n",
       "    </tr>\n",
       "  </tbody>\n",
       "</table>\n",
       "</div>"
      ],
      "text/plain": [
       "                  fsi\n",
       "rw_country_name      \n",
       "Netherlands      26.9\n",
       "Bolivia          78.1\n",
       "Greece           52.6\n",
       "Libya            95.3\n",
       "Moldova          73.0"
      ]
     },
     "execution_count": 10,
     "metadata": {},
     "output_type": "execute_result"
    }
   ],
   "source": [
    "#Prepare Fragile States Index Data for 2015\n",
    "fsi = pd.read_csv('soc_023_fragile_states_index.csv')\n",
    "fsi.drop(fsi.columns[[0, 1, 2]], axis=1, inplace=True)\n",
    "fsi.rename(columns={'score_data':'fsi'}, inplace=True)\n",
    "mask = (fsi['datetime'] > 2014) & (fsi['datetime'] <= 2015)\n",
    "fsi_current = fsi.loc[mask]\n",
    "prepfsi = fsi_current.drop(['datetime','rank_data', 'rw_country_code'], axis=1)\n",
    "prepfsi.set_index('rw_country_name', inplace = True)\n",
    "prepfsi.head()"
   ]
  },
  {
   "cell_type": "code",
   "execution_count": 11,
   "metadata": {},
   "outputs": [
    {
     "data": {
      "text/html": [
       "<div>\n",
       "<style>\n",
       "    .dataframe thead tr:only-child th {\n",
       "        text-align: right;\n",
       "    }\n",
       "\n",
       "    .dataframe thead th {\n",
       "        text-align: left;\n",
       "    }\n",
       "\n",
       "    .dataframe tbody tr th {\n",
       "        vertical-align: top;\n",
       "    }\n",
       "</style>\n",
       "<table border=\"1\" class=\"dataframe\">\n",
       "  <thead>\n",
       "    <tr style=\"text-align: right;\">\n",
       "      <th></th>\n",
       "      <th>water_stress</th>\n",
       "    </tr>\n",
       "    <tr>\n",
       "      <th>rw_country_name</th>\n",
       "      <th></th>\n",
       "    </tr>\n",
       "  </thead>\n",
       "  <tbody>\n",
       "    <tr>\n",
       "      <th>Egypt</th>\n",
       "      <td>1.327988</td>\n",
       "    </tr>\n",
       "    <tr>\n",
       "      <th>Republic of Serbia</th>\n",
       "      <td>0.583519</td>\n",
       "    </tr>\n",
       "    <tr>\n",
       "      <th>Suriname</th>\n",
       "      <td>0.253345</td>\n",
       "    </tr>\n",
       "    <tr>\n",
       "      <th>Slovakia</th>\n",
       "      <td>0.197466</td>\n",
       "    </tr>\n",
       "    <tr>\n",
       "      <th>Slovenia</th>\n",
       "      <td>0.027711</td>\n",
       "    </tr>\n",
       "  </tbody>\n",
       "</table>\n",
       "</div>"
      ],
      "text/plain": [
       "                    water_stress\n",
       "rw_country_name                 \n",
       "Egypt                   1.327988\n",
       "Republic of Serbia      0.583519\n",
       "Suriname                0.253345\n",
       "Slovakia                0.197466\n",
       "Slovenia                0.027711"
      ]
     },
     "execution_count": 11,
     "metadata": {},
     "output_type": "execute_result"
    }
   ],
   "source": [
    "#Prepare Water stress Data for 2015\n",
    "ws = pd.read_csv('wat_036_water_stress_country_ranking.csv')\n",
    "ws.rename(columns={'wri_name':'rw_country_name','all_sectors': 'water_stress' }, inplace=True)\n",
    "ws.drop(['cartodb_id','name'], axis=1, inplace = True)\n",
    "ws.set_index('rw_country_name', inplace = True)\n",
    "ws.head()"
   ]
  },
  {
   "cell_type": "code",
   "execution_count": 12,
   "metadata": {
    "scrolled": true
   },
   "outputs": [
    {
     "data": {
      "text/html": [
       "<div>\n",
       "<style>\n",
       "    .dataframe thead tr:only-child th {\n",
       "        text-align: right;\n",
       "    }\n",
       "\n",
       "    .dataframe thead th {\n",
       "        text-align: left;\n",
       "    }\n",
       "\n",
       "    .dataframe tbody tr th {\n",
       "        vertical-align: top;\n",
       "    }\n",
       "</style>\n",
       "<table border=\"1\" class=\"dataframe\">\n",
       "  <thead>\n",
       "    <tr style=\"text-align: right;\">\n",
       "      <th></th>\n",
       "      <th>HDI</th>\n",
       "    </tr>\n",
       "    <tr>\n",
       "      <th>rw_country_name</th>\n",
       "      <th></th>\n",
       "    </tr>\n",
       "  </thead>\n",
       "  <tbody>\n",
       "    <tr>\n",
       "      <th>Guinea Bissau</th>\n",
       "      <td>0.424</td>\n",
       "    </tr>\n",
       "    <tr>\n",
       "      <th>South Sudan</th>\n",
       "      <td>0.418</td>\n",
       "    </tr>\n",
       "    <tr>\n",
       "      <th>Norway</th>\n",
       "      <td>0.949</td>\n",
       "    </tr>\n",
       "    <tr>\n",
       "      <th>Iraq</th>\n",
       "      <td>0.649</td>\n",
       "    </tr>\n",
       "    <tr>\n",
       "      <th>Kenya</th>\n",
       "      <td>0.555</td>\n",
       "    </tr>\n",
       "  </tbody>\n",
       "</table>\n",
       "</div>"
      ],
      "text/plain": [
       "                   HDI\n",
       "rw_country_name       \n",
       "Guinea Bissau    0.424\n",
       "South Sudan      0.418\n",
       "Norway           0.949\n",
       "Iraq             0.649\n",
       "Kenya            0.555"
      ]
     },
     "execution_count": 12,
     "metadata": {},
     "output_type": "execute_result"
    }
   ],
   "source": [
    "#Prepare HDI data for 2015\n",
    "hdi = pd.read_csv('soc_004_human_development_index.csv')\n",
    "hdi.drop(['cartodb_id', 'rw_country_code', 'datetime'], axis=1, inplace=True)\n",
    "hdi.rename(columns= {\"yr_data\" : \"HDI\"}, inplace=True)\n",
    "hdi.set_index('rw_country_name', inplace = True)\n",
    "hdi.head()"
   ]
  },
  {
   "cell_type": "code",
   "execution_count": 13,
   "metadata": {
    "scrolled": true
   },
   "outputs": [
    {
     "data": {
      "text/html": [
       "<div>\n",
       "<style>\n",
       "    .dataframe thead tr:only-child th {\n",
       "        text-align: right;\n",
       "    }\n",
       "\n",
       "    .dataframe thead th {\n",
       "        text-align: left;\n",
       "    }\n",
       "\n",
       "    .dataframe tbody tr th {\n",
       "        vertical-align: top;\n",
       "    }\n",
       "</style>\n",
       "<table border=\"1\" class=\"dataframe\">\n",
       "  <thead>\n",
       "    <tr style=\"text-align: right;\">\n",
       "      <th></th>\n",
       "      <th>fsi</th>\n",
       "      <th>water_stress</th>\n",
       "      <th>HDI</th>\n",
       "      <th>2015_events</th>\n",
       "      <th>2016_events</th>\n",
       "    </tr>\n",
       "  </thead>\n",
       "  <tbody>\n",
       "    <tr>\n",
       "      <th>Algeria</th>\n",
       "      <td>79.6</td>\n",
       "      <td>3.444267</td>\n",
       "      <td>0.745</td>\n",
       "      <td>362.0</td>\n",
       "      <td>361.0</td>\n",
       "    </tr>\n",
       "    <tr>\n",
       "      <th>Angola</th>\n",
       "      <td>87.9</td>\n",
       "      <td>1.539987</td>\n",
       "      <td>0.533</td>\n",
       "      <td>15.0</td>\n",
       "      <td>45.0</td>\n",
       "    </tr>\n",
       "    <tr>\n",
       "      <th>Benin</th>\n",
       "      <td>78.8</td>\n",
       "      <td>0.000000</td>\n",
       "      <td>0.485</td>\n",
       "      <td>12.0</td>\n",
       "      <td>20.0</td>\n",
       "    </tr>\n",
       "    <tr>\n",
       "      <th>Botswana</th>\n",
       "      <td>62.8</td>\n",
       "      <td>1.362974</td>\n",
       "      <td>0.698</td>\n",
       "      <td>4.0</td>\n",
       "      <td>4.0</td>\n",
       "    </tr>\n",
       "    <tr>\n",
       "      <th>Burkina Faso</th>\n",
       "      <td>89.2</td>\n",
       "      <td>0.000004</td>\n",
       "      <td>0.402</td>\n",
       "      <td>120.0</td>\n",
       "      <td>105.0</td>\n",
       "    </tr>\n",
       "    <tr>\n",
       "      <th>Burundi</th>\n",
       "      <td>98.0</td>\n",
       "      <td>0.000000</td>\n",
       "      <td>0.404</td>\n",
       "      <td>1542.0</td>\n",
       "      <td>1164.0</td>\n",
       "    </tr>\n",
       "    <tr>\n",
       "      <th>Cameroon</th>\n",
       "      <td>94.3</td>\n",
       "      <td>0.107044</td>\n",
       "      <td>0.518</td>\n",
       "      <td>135.0</td>\n",
       "      <td>299.0</td>\n",
       "    </tr>\n",
       "    <tr>\n",
       "      <th>Central African Republic</th>\n",
       "      <td>111.9</td>\n",
       "      <td>0.000000</td>\n",
       "      <td>0.352</td>\n",
       "      <td>365.0</td>\n",
       "      <td>301.0</td>\n",
       "    </tr>\n",
       "    <tr>\n",
       "      <th>Chad</th>\n",
       "      <td>108.4</td>\n",
       "      <td>0.522389</td>\n",
       "      <td>0.396</td>\n",
       "      <td>41.0</td>\n",
       "      <td>48.0</td>\n",
       "    </tr>\n",
       "    <tr>\n",
       "      <th>Djibouti</th>\n",
       "      <td>88.0</td>\n",
       "      <td>3.390809</td>\n",
       "      <td>0.473</td>\n",
       "      <td>9.0</td>\n",
       "      <td>5.0</td>\n",
       "    </tr>\n",
       "    <tr>\n",
       "      <th>Egypt</th>\n",
       "      <td>89.9</td>\n",
       "      <td>1.327988</td>\n",
       "      <td>0.691</td>\n",
       "      <td>1228.0</td>\n",
       "      <td>733.0</td>\n",
       "    </tr>\n",
       "    <tr>\n",
       "      <th>Equatorial Guinea</th>\n",
       "      <td>84.8</td>\n",
       "      <td>0.536396</td>\n",
       "      <td>0.592</td>\n",
       "      <td>1.0</td>\n",
       "      <td>8.0</td>\n",
       "    </tr>\n",
       "    <tr>\n",
       "      <th>Eritrea</th>\n",
       "      <td>96.9</td>\n",
       "      <td>3.018732</td>\n",
       "      <td>0.420</td>\n",
       "      <td>5.0</td>\n",
       "      <td>7.0</td>\n",
       "    </tr>\n",
       "    <tr>\n",
       "      <th>Ethiopia</th>\n",
       "      <td>97.5</td>\n",
       "      <td>0.611777</td>\n",
       "      <td>0.448</td>\n",
       "      <td>379.0</td>\n",
       "      <td>1225.0</td>\n",
       "    </tr>\n",
       "    <tr>\n",
       "      <th>Gabon</th>\n",
       "      <td>71.2</td>\n",
       "      <td>1.559075</td>\n",
       "      <td>0.697</td>\n",
       "      <td>22.0</td>\n",
       "      <td>29.0</td>\n",
       "    </tr>\n",
       "    <tr>\n",
       "      <th>Gambia</th>\n",
       "      <td>85.4</td>\n",
       "      <td>0.416834</td>\n",
       "      <td>0.452</td>\n",
       "      <td>23.0</td>\n",
       "      <td>14.0</td>\n",
       "    </tr>\n",
       "    <tr>\n",
       "      <th>Ghana</th>\n",
       "      <td>71.8</td>\n",
       "      <td>0.108840</td>\n",
       "      <td>0.579</td>\n",
       "      <td>87.0</td>\n",
       "      <td>120.0</td>\n",
       "    </tr>\n",
       "    <tr>\n",
       "      <th>Guinea</th>\n",
       "      <td>104.9</td>\n",
       "      <td>0.058242</td>\n",
       "      <td>0.414</td>\n",
       "      <td>55.0</td>\n",
       "      <td>48.0</td>\n",
       "    </tr>\n",
       "    <tr>\n",
       "      <th>Ivory Coast</th>\n",
       "      <td>100.1</td>\n",
       "      <td>0.044008</td>\n",
       "      <td>0.474</td>\n",
       "      <td>73.0</td>\n",
       "      <td>69.0</td>\n",
       "    </tr>\n",
       "    <tr>\n",
       "      <th>Kenya</th>\n",
       "      <td>97.3</td>\n",
       "      <td>0.682812</td>\n",
       "      <td>0.555</td>\n",
       "      <td>321.0</td>\n",
       "      <td>291.0</td>\n",
       "    </tr>\n",
       "    <tr>\n",
       "      <th>Lesotho</th>\n",
       "      <td>79.9</td>\n",
       "      <td>3.972669</td>\n",
       "      <td>0.497</td>\n",
       "      <td>6.0</td>\n",
       "      <td>3.0</td>\n",
       "    </tr>\n",
       "    <tr>\n",
       "      <th>Liberia</th>\n",
       "      <td>97.3</td>\n",
       "      <td>0.273278</td>\n",
       "      <td>0.427</td>\n",
       "      <td>70.0</td>\n",
       "      <td>62.0</td>\n",
       "    </tr>\n",
       "    <tr>\n",
       "      <th>Libya</th>\n",
       "      <td>95.3</td>\n",
       "      <td>4.840212</td>\n",
       "      <td>0.716</td>\n",
       "      <td>1396.0</td>\n",
       "      <td>1043.0</td>\n",
       "    </tr>\n",
       "    <tr>\n",
       "      <th>Madagascar</th>\n",
       "      <td>83.6</td>\n",
       "      <td>1.247566</td>\n",
       "      <td>0.512</td>\n",
       "      <td>107.0</td>\n",
       "      <td>105.0</td>\n",
       "    </tr>\n",
       "    <tr>\n",
       "      <th>Malawi</th>\n",
       "      <td>86.9</td>\n",
       "      <td>0.105264</td>\n",
       "      <td>0.476</td>\n",
       "      <td>52.0</td>\n",
       "      <td>63.0</td>\n",
       "    </tr>\n",
       "    <tr>\n",
       "      <th>Mali</th>\n",
       "      <td>92.9</td>\n",
       "      <td>0.204415</td>\n",
       "      <td>0.442</td>\n",
       "      <td>177.0</td>\n",
       "      <td>169.0</td>\n",
       "    </tr>\n",
       "    <tr>\n",
       "      <th>Mauritania</th>\n",
       "      <td>94.9</td>\n",
       "      <td>0.604109</td>\n",
       "      <td>0.513</td>\n",
       "      <td>41.0</td>\n",
       "      <td>24.0</td>\n",
       "    </tr>\n",
       "    <tr>\n",
       "      <th>Morocco</th>\n",
       "      <td>74.6</td>\n",
       "      <td>4.236047</td>\n",
       "      <td>0.647</td>\n",
       "      <td>126.0</td>\n",
       "      <td>113.0</td>\n",
       "    </tr>\n",
       "    <tr>\n",
       "      <th>Mozambique</th>\n",
       "      <td>86.9</td>\n",
       "      <td>0.824087</td>\n",
       "      <td>0.418</td>\n",
       "      <td>43.0</td>\n",
       "      <td>126.0</td>\n",
       "    </tr>\n",
       "    <tr>\n",
       "      <th>Namibia</th>\n",
       "      <td>70.8</td>\n",
       "      <td>1.882401</td>\n",
       "      <td>0.640</td>\n",
       "      <td>74.0</td>\n",
       "      <td>46.0</td>\n",
       "    </tr>\n",
       "    <tr>\n",
       "      <th>Niger</th>\n",
       "      <td>97.8</td>\n",
       "      <td>0.112431</td>\n",
       "      <td>0.353</td>\n",
       "      <td>72.0</td>\n",
       "      <td>82.0</td>\n",
       "    </tr>\n",
       "    <tr>\n",
       "      <th>Nigeria</th>\n",
       "      <td>102.5</td>\n",
       "      <td>0.293372</td>\n",
       "      <td>0.527</td>\n",
       "      <td>1672.0</td>\n",
       "      <td>1402.0</td>\n",
       "    </tr>\n",
       "    <tr>\n",
       "      <th>Rwanda</th>\n",
       "      <td>90.2</td>\n",
       "      <td>0.000000</td>\n",
       "      <td>0.498</td>\n",
       "      <td>29.0</td>\n",
       "      <td>8.0</td>\n",
       "    </tr>\n",
       "    <tr>\n",
       "      <th>Senegal</th>\n",
       "      <td>82.9</td>\n",
       "      <td>0.214814</td>\n",
       "      <td>0.494</td>\n",
       "      <td>97.0</td>\n",
       "      <td>59.0</td>\n",
       "    </tr>\n",
       "    <tr>\n",
       "      <th>Sierra Leone</th>\n",
       "      <td>91.9</td>\n",
       "      <td>0.508071</td>\n",
       "      <td>0.420</td>\n",
       "      <td>25.0</td>\n",
       "      <td>22.0</td>\n",
       "    </tr>\n",
       "    <tr>\n",
       "      <th>South Africa</th>\n",
       "      <td>67.0</td>\n",
       "      <td>3.040457</td>\n",
       "      <td>0.666</td>\n",
       "      <td>1486.0</td>\n",
       "      <td>1418.0</td>\n",
       "    </tr>\n",
       "    <tr>\n",
       "      <th>South Sudan</th>\n",
       "      <td>114.5</td>\n",
       "      <td>0.000000</td>\n",
       "      <td>0.418</td>\n",
       "      <td>850.0</td>\n",
       "      <td>976.0</td>\n",
       "    </tr>\n",
       "    <tr>\n",
       "      <th>Sudan</th>\n",
       "      <td>110.8</td>\n",
       "      <td>0.912859</td>\n",
       "      <td>0.490</td>\n",
       "      <td>1360.0</td>\n",
       "      <td>1431.0</td>\n",
       "    </tr>\n",
       "    <tr>\n",
       "      <th>Swaziland</th>\n",
       "      <td>86.2</td>\n",
       "      <td>3.105144</td>\n",
       "      <td>0.541</td>\n",
       "      <td>8.0</td>\n",
       "      <td>6.0</td>\n",
       "    </tr>\n",
       "    <tr>\n",
       "      <th>Togo</th>\n",
       "      <td>86.8</td>\n",
       "      <td>0.120468</td>\n",
       "      <td>0.487</td>\n",
       "      <td>22.0</td>\n",
       "      <td>10.0</td>\n",
       "    </tr>\n",
       "    <tr>\n",
       "      <th>Tunisia</th>\n",
       "      <td>75.7</td>\n",
       "      <td>3.441953</td>\n",
       "      <td>0.725</td>\n",
       "      <td>467.0</td>\n",
       "      <td>759.0</td>\n",
       "    </tr>\n",
       "    <tr>\n",
       "      <th>Uganda</th>\n",
       "      <td>97.0</td>\n",
       "      <td>0.000343</td>\n",
       "      <td>0.493</td>\n",
       "      <td>218.0</td>\n",
       "      <td>246.0</td>\n",
       "    </tr>\n",
       "    <tr>\n",
       "      <th>Zambia</th>\n",
       "      <td>85.1</td>\n",
       "      <td>0.077685</td>\n",
       "      <td>0.579</td>\n",
       "      <td>109.0</td>\n",
       "      <td>126.0</td>\n",
       "    </tr>\n",
       "    <tr>\n",
       "      <th>Zimbabwe</th>\n",
       "      <td>100.0</td>\n",
       "      <td>0.640418</td>\n",
       "      <td>0.516</td>\n",
       "      <td>264.0</td>\n",
       "      <td>228.0</td>\n",
       "    </tr>\n",
       "  </tbody>\n",
       "</table>\n",
       "</div>"
      ],
      "text/plain": [
       "                            fsi  water_stress    HDI  2015_events  2016_events\n",
       "Algeria                    79.6      3.444267  0.745        362.0        361.0\n",
       "Angola                     87.9      1.539987  0.533         15.0         45.0\n",
       "Benin                      78.8      0.000000  0.485         12.0         20.0\n",
       "Botswana                   62.8      1.362974  0.698          4.0          4.0\n",
       "Burkina Faso               89.2      0.000004  0.402        120.0        105.0\n",
       "Burundi                    98.0      0.000000  0.404       1542.0       1164.0\n",
       "Cameroon                   94.3      0.107044  0.518        135.0        299.0\n",
       "Central African Republic  111.9      0.000000  0.352        365.0        301.0\n",
       "Chad                      108.4      0.522389  0.396         41.0         48.0\n",
       "Djibouti                   88.0      3.390809  0.473          9.0          5.0\n",
       "Egypt                      89.9      1.327988  0.691       1228.0        733.0\n",
       "Equatorial Guinea          84.8      0.536396  0.592          1.0          8.0\n",
       "Eritrea                    96.9      3.018732  0.420          5.0          7.0\n",
       "Ethiopia                   97.5      0.611777  0.448        379.0       1225.0\n",
       "Gabon                      71.2      1.559075  0.697         22.0         29.0\n",
       "Gambia                     85.4      0.416834  0.452         23.0         14.0\n",
       "Ghana                      71.8      0.108840  0.579         87.0        120.0\n",
       "Guinea                    104.9      0.058242  0.414         55.0         48.0\n",
       "Ivory Coast               100.1      0.044008  0.474         73.0         69.0\n",
       "Kenya                      97.3      0.682812  0.555        321.0        291.0\n",
       "Lesotho                    79.9      3.972669  0.497          6.0          3.0\n",
       "Liberia                    97.3      0.273278  0.427         70.0         62.0\n",
       "Libya                      95.3      4.840212  0.716       1396.0       1043.0\n",
       "Madagascar                 83.6      1.247566  0.512        107.0        105.0\n",
       "Malawi                     86.9      0.105264  0.476         52.0         63.0\n",
       "Mali                       92.9      0.204415  0.442        177.0        169.0\n",
       "Mauritania                 94.9      0.604109  0.513         41.0         24.0\n",
       "Morocco                    74.6      4.236047  0.647        126.0        113.0\n",
       "Mozambique                 86.9      0.824087  0.418         43.0        126.0\n",
       "Namibia                    70.8      1.882401  0.640         74.0         46.0\n",
       "Niger                      97.8      0.112431  0.353         72.0         82.0\n",
       "Nigeria                   102.5      0.293372  0.527       1672.0       1402.0\n",
       "Rwanda                     90.2      0.000000  0.498         29.0          8.0\n",
       "Senegal                    82.9      0.214814  0.494         97.0         59.0\n",
       "Sierra Leone               91.9      0.508071  0.420         25.0         22.0\n",
       "South Africa               67.0      3.040457  0.666       1486.0       1418.0\n",
       "South Sudan               114.5      0.000000  0.418        850.0        976.0\n",
       "Sudan                     110.8      0.912859  0.490       1360.0       1431.0\n",
       "Swaziland                  86.2      3.105144  0.541          8.0          6.0\n",
       "Togo                       86.8      0.120468  0.487         22.0         10.0\n",
       "Tunisia                    75.7      3.441953  0.725        467.0        759.0\n",
       "Uganda                     97.0      0.000343  0.493        218.0        246.0\n",
       "Zambia                     85.1      0.077685  0.579        109.0        126.0\n",
       "Zimbabwe                  100.0      0.640418  0.516        264.0        228.0"
      ]
     },
     "execution_count": 13,
     "metadata": {},
     "output_type": "execute_result"
    }
   ],
   "source": [
    "data = pd.concat([prepfsi, ws, hdi, ACLED_SUM15, ACLED_SUM16], axis=1)\n",
    "data = data.dropna(axis=0)\n",
    "data"
   ]
  },
  {
   "cell_type": "code",
   "execution_count": 14,
   "metadata": {},
   "outputs": [
    {
     "data": {
      "text/plain": [
       "(44, 5)"
      ]
     },
     "execution_count": 14,
     "metadata": {},
     "output_type": "execute_result"
    }
   ],
   "source": [
    "data.shape"
   ]
  },
  {
   "cell_type": "code",
   "execution_count": 15,
   "metadata": {},
   "outputs": [
    {
     "data": {
      "text/html": [
       "<div>\n",
       "<style>\n",
       "    .dataframe thead tr:only-child th {\n",
       "        text-align: right;\n",
       "    }\n",
       "\n",
       "    .dataframe thead th {\n",
       "        text-align: left;\n",
       "    }\n",
       "\n",
       "    .dataframe tbody tr th {\n",
       "        vertical-align: top;\n",
       "    }\n",
       "</style>\n",
       "<table border=\"1\" class=\"dataframe\">\n",
       "  <thead>\n",
       "    <tr style=\"text-align: right;\">\n",
       "      <th></th>\n",
       "      <th>fsi</th>\n",
       "      <th>water_stress</th>\n",
       "      <th>HDI</th>\n",
       "      <th>2015_events</th>\n",
       "      <th>2016_events</th>\n",
       "    </tr>\n",
       "  </thead>\n",
       "  <tbody>\n",
       "    <tr>\n",
       "      <th>fsi</th>\n",
       "      <td>1.000000</td>\n",
       "      <td>-0.403810</td>\n",
       "      <td>-0.654106</td>\n",
       "      <td>0.245649</td>\n",
       "      <td>0.262577</td>\n",
       "    </tr>\n",
       "    <tr>\n",
       "      <th>water_stress</th>\n",
       "      <td>-0.403810</td>\n",
       "      <td>1.000000</td>\n",
       "      <td>0.581673</td>\n",
       "      <td>0.140105</td>\n",
       "      <td>0.117111</td>\n",
       "    </tr>\n",
       "    <tr>\n",
       "      <th>HDI</th>\n",
       "      <td>-0.654106</td>\n",
       "      <td>0.581673</td>\n",
       "      <td>1.000000</td>\n",
       "      <td>0.217205</td>\n",
       "      <td>0.170669</td>\n",
       "    </tr>\n",
       "    <tr>\n",
       "      <th>2015_events</th>\n",
       "      <td>0.245649</td>\n",
       "      <td>0.140105</td>\n",
       "      <td>0.217205</td>\n",
       "      <td>1.000000</td>\n",
       "      <td>0.925984</td>\n",
       "    </tr>\n",
       "    <tr>\n",
       "      <th>2016_events</th>\n",
       "      <td>0.262577</td>\n",
       "      <td>0.117111</td>\n",
       "      <td>0.170669</td>\n",
       "      <td>0.925984</td>\n",
       "      <td>1.000000</td>\n",
       "    </tr>\n",
       "  </tbody>\n",
       "</table>\n",
       "</div>"
      ],
      "text/plain": [
       "                   fsi  water_stress       HDI  2015_events  2016_events\n",
       "fsi           1.000000     -0.403810 -0.654106     0.245649     0.262577\n",
       "water_stress -0.403810      1.000000  0.581673     0.140105     0.117111\n",
       "HDI          -0.654106      0.581673  1.000000     0.217205     0.170669\n",
       "2015_events   0.245649      0.140105  0.217205     1.000000     0.925984\n",
       "2016_events   0.262577      0.117111  0.170669     0.925984     1.000000"
      ]
     },
     "execution_count": 15,
     "metadata": {},
     "output_type": "execute_result"
    }
   ],
   "source": [
    "data.corr()"
   ]
  },
  {
   "cell_type": "code",
   "execution_count": 16,
   "metadata": {},
   "outputs": [
    {
     "data": {
      "text/plain": [
       "<matplotlib.axes._subplots.AxesSubplot at 0x113849fd0>"
      ]
     },
     "execution_count": 16,
     "metadata": {},
     "output_type": "execute_result"
    },
    {
     "data": {
      "image/png": "[encoded data removed]",
      "text/plain": [
       "<Figure size 432x288 with 2 Axes>"
      ]
     },
     "metadata": {},
     "output_type": "display_data"
    }
   ],
   "source": [
    "sns.heatmap(data.corr())"
   ]
  },
  {
   "cell_type": "code",
   "execution_count": 17,
   "metadata": {
    "collapsed": true
   },
   "outputs": [],
   "source": [
    "feature_cols = ['fsi', 'water_stress', 'HDI', '2015_events']"
   ]
  },
  {
   "cell_type": "code",
   "execution_count": 18,
   "metadata": {},
   "outputs": [
    {
     "data": {
      "text/plain": [
       "<seaborn.axisgrid.PairGrid at 0x1083e95c0>"
      ]
     },
     "execution_count": 18,
     "metadata": {},
     "output_type": "execute_result"
    },
    {
     "data": {
      "image/png": "[encoded data removed]",
      "text/plain": [
       "<Figure size 720x180 with 4 Axes>"
      ]
     },
     "metadata": {},
     "output_type": "display_data"
    }
   ],
   "source": [
    "sns.pairplot(data, x_vars=feature_cols, y_vars='2016_events', kind='reg')"
   ]
  },
  {
   "cell_type": "markdown",
   "metadata": {},
   "source": [
    "# Make a Linear Regression"
   ]
  },
  {
   "cell_type": "code",
   "execution_count": 19,
   "metadata": {},
   "outputs": [
    {
     "data": {
      "text/plain": [
       "sklearn.linear_model.base.LinearRegression"
      ]
     },
     "execution_count": 19,
     "metadata": {},
     "output_type": "execute_result"
    }
   ],
   "source": [
    "# Make an instance of a LinearRegression object.\n",
    "lr = LinearRegression()\n",
    "type(lr)"
   ]
  },
  {
   "cell_type": "code",
   "execution_count": 20,
   "metadata": {
    "collapsed": true
   },
   "outputs": [],
   "source": [
    "# Create X and y.\n",
    "feature_cols = ['fsi', 'water_stress', 'HDI', '2015_events']\n",
    "X = data[feature_cols] #feat is list called HDI \n",
    "y = data['2016_events']"
   ]
  },
  {
   "cell_type": "code",
   "execution_count": 21,
   "metadata": {},
   "outputs": [
    {
     "name": "stdout",
     "output_type": "stream",
     "text": [
      "[  1.14436634   2.86602322 -60.57307236   0.84340402]\n",
      "-29.5809736373\n"
     ]
    }
   ],
   "source": [
    "lr.fit(X, y)\n",
    "print(lr.coef_)\n",
    "print(lr.intercept_)"
   ]
  },
  {
   "cell_type": "code",
   "execution_count": 22,
   "metadata": {},
   "outputs": [
    {
     "name": "stdout",
     "output_type": "stream",
     "text": [
      "[  1.14436634   2.86602322 -60.57307236   0.84340402]\n",
      "-29.5809736373\n"
     ]
    }
   ],
   "source": [
    "linreg = LinearRegression()\n",
    "linreg.fit(X, y)\n",
    "print(linreg.coef_)\n",
    "print(linreg.intercept_)"
   ]
  },
  {
   "cell_type": "code",
   "execution_count": 23,
   "metadata": {
    "collapsed": true
   },
   "outputs": [],
   "source": [
    "# Define a function that accepts a list of features and returns testing RMSE.\n",
    "def train_test_rmse(df, feature_cols):\n",
    "    X = df[feature_cols]\n",
    "    y = df.total_rentals\n",
    "    \n",
    "    X_train, X_test, y_train, y_test = train_test_split(X, y, random_state=123)\n",
    "    \n",
    "    linreg = LinearRegression()\n",
    "    linreg.fit(X_train, y_train)\n",
    "    \n",
    "    y_pred = linreg.predict(X_test)\n",
    "    return np.sqrt(metrics.mean_squared_error(y_test, y_pred))"
   ]
  },
  {
   "cell_type": "code",
   "execution_count": 24,
   "metadata": {},
   "outputs": [
    {
     "data": {
      "text/plain": [
       "array([ 349.63636364,  349.63636364,  349.63636364,  349.63636364,\n",
       "        349.63636364,  349.63636364,  349.63636364,  349.63636364,\n",
       "        349.63636364,  349.63636364,  349.63636364])"
      ]
     },
     "execution_count": 24,
     "metadata": {},
     "output_type": "execute_result"
    }
   ],
   "source": [
    "# Split X and y into training and testing sets.\n",
    "X_train, X_test, y_train, y_test = train_test_split(X, y, random_state=123)\n",
    "\n",
    "# Create a NumPy array with the same shape as y_test.\n",
    "y_null = np.zeros_like(y_test, dtype=float)\n",
    "\n",
    "# Fill the array with the mean value of y_test.\n",
    "y_null.fill(y_test.mean())\n",
    "y_null"
   ]
  },
  {
   "cell_type": "code",
   "execution_count": 25,
   "metadata": {},
   "outputs": [
    {
     "data": {
      "text/plain": [
       "444.57748536770038"
      ]
     },
     "execution_count": 25,
     "metadata": {},
     "output_type": "execute_result"
    }
   ],
   "source": [
    "# Compute null RMSE.\n",
    "np.sqrt(metrics.mean_squared_error(y_test, y_null))"
   ]
  },
  {
   "cell_type": "code",
   "execution_count": 26,
   "metadata": {
    "collapsed": true
   },
   "outputs": [],
   "source": [
    "#the mean is better?"
   ]
  },
  {
   "cell_type": "markdown",
   "metadata": {},
   "source": [
    "# Create a Decision Tree"
   ]
  },
  {
   "cell_type": "code",
   "execution_count": 27,
   "metadata": {
    "collapsed": true
   },
   "outputs": [],
   "source": [
    "from sklearn.tree import DecisionTreeRegressor\n",
    "\n",
    "# List of values to try for max_depth:\n",
    "max_depth_range = list(range(1, 21))\n",
    "\n",
    "# List to store the average RMSE for each value of max_depth:\n",
    "RMSE_scores = []\n",
    "\n",
    "# Use 10-fold cross-validation with each value of max_depth.\n",
    "from sklearn.model_selection import cross_val_score\n",
    "for depth in max_depth_range:\n",
    "    treereg = DecisionTreeRegressor(max_depth=depth, random_state=1)\n",
    "    MSE_scores = cross_val_score(treereg, X, y, cv=10, scoring='neg_mean_squared_error')\n",
    "    RMSE_scores.append(np.mean(np.sqrt(-MSE_scores)))"
   ]
  },
  {
   "cell_type": "code",
   "execution_count": 28,
   "metadata": {
    "scrolled": true
   },
   "outputs": [
    {
     "data": {
      "image/png": "[encoded data removed]",
      "text/plain": [
       "<Figure size 432x288 with 1 Axes>"
      ]
     },
     "metadata": {},
     "output_type": "display_data"
    }
   ],
   "source": [
    "# Plot max_depth (x-axis) versus RMSE (y-axis).\n",
    "plt.plot(max_depth_range, RMSE_scores);\n",
    "plt.xlabel('max_depth');\n",
    "plt.ylabel('RMSE (lower is better)');"
   ]
  },
  {
   "cell_type": "code",
   "execution_count": 29,
   "metadata": {},
   "outputs": [
    {
     "data": {
      "text/plain": [
       "(151.16132384146869, 11)"
      ]
     },
     "execution_count": 29,
     "metadata": {},
     "output_type": "execute_result"
    }
   ],
   "source": [
    "# Show the best RMSE and the corresponding max_depth.\n",
    "sorted(zip(RMSE_scores, max_depth_range))[0]"
   ]
  },
  {
   "cell_type": "code",
   "execution_count": 30,
   "metadata": {},
   "outputs": [
    {
     "data": {
      "text/plain": [
       "DecisionTreeRegressor(criterion='mse', max_depth=6, max_features=None,\n",
       "           max_leaf_nodes=None, min_impurity_split=1e-07,\n",
       "           min_samples_leaf=1, min_samples_split=2,\n",
       "           min_weight_fraction_leaf=0.0, presort=False, random_state=1,\n",
       "           splitter='best')"
      ]
     },
     "execution_count": 30,
     "metadata": {},
     "output_type": "execute_result"
    }
   ],
   "source": [
    "# max_depth=2 was best, so fit a tree using that parameter.\n",
    "treereg = DecisionTreeRegressor(max_depth=6, random_state=1)\n",
    "treereg.fit(X, y)"
   ]
  },
  {
   "cell_type": "code",
   "execution_count": 31,
   "metadata": {},
   "outputs": [
    {
     "data": {
      "text/html": [
       "<div>\n",
       "<style>\n",
       "    .dataframe thead tr:only-child th {\n",
       "        text-align: right;\n",
       "    }\n",
       "\n",
       "    .dataframe thead th {\n",
       "        text-align: left;\n",
       "    }\n",
       "\n",
       "    .dataframe tbody tr th {\n",
       "        vertical-align: top;\n",
       "    }\n",
       "</style>\n",
       "<table border=\"1\" class=\"dataframe\">\n",
       "  <thead>\n",
       "    <tr style=\"text-align: right;\">\n",
       "      <th></th>\n",
       "      <th>feature</th>\n",
       "      <th>importance</th>\n",
       "    </tr>\n",
       "  </thead>\n",
       "  <tbody>\n",
       "    <tr>\n",
       "      <th>0</th>\n",
       "      <td>fsi</td>\n",
       "      <td>0.004959</td>\n",
       "    </tr>\n",
       "    <tr>\n",
       "      <th>1</th>\n",
       "      <td>water_stress</td>\n",
       "      <td>0.007309</td>\n",
       "    </tr>\n",
       "    <tr>\n",
       "      <th>2</th>\n",
       "      <td>HDI</td>\n",
       "      <td>0.057233</td>\n",
       "    </tr>\n",
       "    <tr>\n",
       "      <th>3</th>\n",
       "      <td>2015_events</td>\n",
       "      <td>0.930500</td>\n",
       "    </tr>\n",
       "  </tbody>\n",
       "</table>\n",
       "</div>"
      ],
      "text/plain": [
       "        feature  importance\n",
       "0           fsi    0.004959\n",
       "1  water_stress    0.007309\n",
       "2           HDI    0.057233\n",
       "3   2015_events    0.930500"
      ]
     },
     "execution_count": 31,
     "metadata": {},
     "output_type": "execute_result"
    }
   ],
   "source": [
    "# Compute feature importances.\n",
    "pd.DataFrame({'feature':feature_cols, 'importance':treereg.feature_importances_}).sort_values(by='importance')"
   ]
  },
  {
   "cell_type": "code",
   "execution_count": 32,
   "metadata": {
    "collapsed": true
   },
   "outputs": [],
   "source": [
    "# Create a Graphviz file and generate an image of the decision tree# Create \n",
    "from sklearn.tree import export_graphviz\n",
    "export_graphviz(treereg, out_file='tree_kiva.dot', feature_names=feature_cols)"
   ]
  },
  {
   "cell_type": "markdown",
   "metadata": {},
   "source": [
    "# Random Forest"
   ]
  },
  {
   "cell_type": "code",
   "execution_count": 33,
   "metadata": {
    "collapsed": true
   },
   "outputs": [],
   "source": [
    "from sklearn.ensemble import RandomForestRegressor"
   ]
  },
  {
   "cell_type": "code",
   "execution_count": 34,
   "metadata": {},
   "outputs": [
    {
     "data": {
      "text/plain": [
       "RandomForestRegressor(bootstrap=True, criterion='mse', max_depth=None,\n",
       "           max_features=4, max_leaf_nodes=None, min_impurity_split=1e-07,\n",
       "           min_samples_leaf=1, min_samples_split=2,\n",
       "           min_weight_fraction_leaf=0.0, n_estimators=150, n_jobs=1,\n",
       "           oob_score=True, random_state=1, verbose=0, warm_start=False)"
      ]
     },
     "execution_count": 34,
     "metadata": {},
     "output_type": "execute_result"
    }
   ],
   "source": [
    "# max_features=5 is best and n_estimators=150 is sufficiently large.\n",
    "rfreg = RandomForestRegressor(n_estimators=150, max_features=4, oob_score=True, random_state=1)\n",
    "rfreg.fit(X, y)"
   ]
  },
  {
   "cell_type": "code",
   "execution_count": 35,
   "metadata": {},
   "outputs": [
    {
     "data": {
      "text/html": [
       "<div>\n",
       "<style>\n",
       "    .dataframe thead tr:only-child th {\n",
       "        text-align: right;\n",
       "    }\n",
       "\n",
       "    .dataframe thead th {\n",
       "        text-align: left;\n",
       "    }\n",
       "\n",
       "    .dataframe tbody tr th {\n",
       "        vertical-align: top;\n",
       "    }\n",
       "</style>\n",
       "<table border=\"1\" class=\"dataframe\">\n",
       "  <thead>\n",
       "    <tr style=\"text-align: right;\">\n",
       "      <th></th>\n",
       "      <th>feature</th>\n",
       "      <th>importance</th>\n",
       "    </tr>\n",
       "  </thead>\n",
       "  <tbody>\n",
       "    <tr>\n",
       "      <th>1</th>\n",
       "      <td>water_stress</td>\n",
       "      <td>0.006294</td>\n",
       "    </tr>\n",
       "    <tr>\n",
       "      <th>0</th>\n",
       "      <td>fsi</td>\n",
       "      <td>0.015198</td>\n",
       "    </tr>\n",
       "    <tr>\n",
       "      <th>2</th>\n",
       "      <td>HDI</td>\n",
       "      <td>0.021520</td>\n",
       "    </tr>\n",
       "    <tr>\n",
       "      <th>3</th>\n",
       "      <td>2015_events</td>\n",
       "      <td>0.956987</td>\n",
       "    </tr>\n",
       "  </tbody>\n",
       "</table>\n",
       "</div>"
      ],
      "text/plain": [
       "        feature  importance\n",
       "1  water_stress    0.006294\n",
       "0           fsi    0.015198\n",
       "2           HDI    0.021520\n",
       "3   2015_events    0.956987"
      ]
     },
     "execution_count": 35,
     "metadata": {},
     "output_type": "execute_result"
    }
   ],
   "source": [
    "# Compute feature importances.\n",
    "pd.DataFrame({'feature':feature_cols, 'importance':rfreg.feature_importances_}).sort_values(by='importance')"
   ]
  },
  {
   "cell_type": "code",
   "execution_count": 36,
   "metadata": {},
   "outputs": [
    {
     "name": "stdout",
     "output_type": "stream",
     "text": [
      "0.794699741948\n"
     ]
    },
    {
     "data": {
      "text/plain": [
       "118.13380389077945"
      ]
     },
     "execution_count": 36,
     "metadata": {},
     "output_type": "execute_result"
    }
   ],
   "source": [
    "# Compute the out-of-bag R-squared score.\n",
    "print((rfreg.oob_score_))\n",
    "\n",
    "# Find the average RMSE.\n",
    "scores = cross_val_score(rfreg, X, y, cv=10, scoring='neg_mean_squared_error')\n",
    "np.mean(np.sqrt(-scores))"
   ]
  },
  {
   "cell_type": "markdown",
   "metadata": {},
   "source": [
    " # Reducing X to its Most Important Features"
   ]
  },
  {
   "cell_type": "code",
   "execution_count": 37,
   "metadata": {},
   "outputs": [
    {
     "data": {
      "text/plain": [
       "(44, 4)"
      ]
     },
     "execution_count": 37,
     "metadata": {},
     "output_type": "execute_result"
    }
   ],
   "source": [
    "# Check the shape of X.\n",
    "X.shape"
   ]
  },
  {
   "cell_type": "code",
   "execution_count": 38,
   "metadata": {
    "collapsed": true
   },
   "outputs": [],
   "source": [
    "from sklearn.model_selection import train_test_split\n",
    "X_train, X_test, y_train, y_test = train_test_split(X,y, random_state = 89)"
   ]
  },
  {
   "cell_type": "code",
   "execution_count": 39,
   "metadata": {},
   "outputs": [
    {
     "data": {
      "text/plain": [
       "RandomForestRegressor(bootstrap=True, criterion='mse', max_depth=None,\n",
       "           max_features=4, max_leaf_nodes=None, min_impurity_split=1e-07,\n",
       "           min_samples_leaf=1, min_samples_split=2,\n",
       "           min_weight_fraction_leaf=0.0, n_estimators=150, n_jobs=1,\n",
       "           oob_score=True, random_state=1, verbose=0, warm_start=False)"
      ]
     },
     "execution_count": 39,
     "metadata": {},
     "output_type": "execute_result"
    }
   ],
   "source": [
    "# Fit the model on only the train data\n",
    "rfreg = RandomForestRegressor(n_estimators=150, max_features=4, oob_score=True, random_state=1)\n",
    "rfreg.fit(X_train, y_train)"
   ]
  },
  {
   "cell_type": "code",
   "execution_count": 40,
   "metadata": {},
   "outputs": [
    {
     "name": "stdout",
     "output_type": "stream",
     "text": [
      "(33, 1)\n",
      "(33, 2)\n"
     ]
    }
   ],
   "source": [
    "# Set a threshold for which features to include.\n",
    "from sklearn.feature_selection import SelectFromModel\n",
    "\n",
    "print(SelectFromModel(rfreg, threshold='mean', prefit=True).transform(X_train).shape)\n",
    "print(SelectFromModel(rfreg, threshold='median', prefit=True).transform(X_train).shape)"
   ]
  },
  {
   "cell_type": "code",
   "execution_count": 41,
   "metadata": {
    "collapsed": true
   },
   "outputs": [],
   "source": [
    "# Create a new feature matrix that only includes important features.\n",
    "X_important =  SelectFromModel(rfreg, threshold='mean', prefit=True).transform(X_test)"
   ]
  },
  {
   "cell_type": "code",
   "execution_count": 42,
   "metadata": {},
   "outputs": [
    {
     "data": {
      "text/plain": [
       "138.82522937787769"
      ]
     },
     "execution_count": 42,
     "metadata": {},
     "output_type": "execute_result"
    }
   ],
   "source": [
    "# Check the RMSE for a random forest that only includes important features.\n",
    "rfreg = RandomForestRegressor(n_estimators=150, max_features=1, random_state=1)\n",
    "\n",
    "scores = cross_val_score(rfreg, X_important, y_test, cv=10, scoring='neg_mean_squared_error')\n",
    "np.mean(np.sqrt(-scores))"
   ]
  },
  {
   "cell_type": "code",
   "execution_count": 43,
   "metadata": {
    "collapsed": true
   },
   "outputs": [],
   "source": [
    "# Probably only better because I have such a small sample size"
   ]
  },
  {
   "cell_type": "markdown",
   "metadata": {},
   "source": [
    "# Now do with ADM-2"
   ]
  },
  {
   "cell_type": "code",
   "execution_count": 44,
   "metadata": {
    "scrolled": true
   },
   "outputs": [
    {
     "data": {
      "text/html": [
       "<div>\n",
       "<style>\n",
       "    .dataframe thead tr:only-child th {\n",
       "        text-align: right;\n",
       "    }\n",
       "\n",
       "    .dataframe thead th {\n",
       "        text-align: left;\n",
       "    }\n",
       "\n",
       "    .dataframe tbody tr th {\n",
       "        vertical-align: top;\n",
       "    }\n",
       "</style>\n",
       "<table border=\"1\" class=\"dataframe\">\n",
       "  <thead>\n",
       "    <tr style=\"text-align: right;\">\n",
       "      <th></th>\n",
       "      <th>admin2</th>\n",
       "      <th>Counts15</th>\n",
       "    </tr>\n",
       "    <tr>\n",
       "      <th>country</th>\n",
       "      <th></th>\n",
       "      <th></th>\n",
       "    </tr>\n",
       "  </thead>\n",
       "  <tbody>\n",
       "    <tr>\n",
       "      <th>Somalia</th>\n",
       "      <td>Mogadisho</td>\n",
       "      <td>492.0</td>\n",
       "    </tr>\n",
       "    <tr>\n",
       "      <th>Libya</th>\n",
       "      <td>Benghazi</td>\n",
       "      <td>431.0</td>\n",
       "    </tr>\n",
       "    <tr>\n",
       "      <th>South Africa</th>\n",
       "      <td>City of Cape Town</td>\n",
       "      <td>285.0</td>\n",
       "    </tr>\n",
       "    <tr>\n",
       "      <th>Egypt</th>\n",
       "      <td>Rafah</td>\n",
       "      <td>256.0</td>\n",
       "    </tr>\n",
       "    <tr>\n",
       "      <th>Democratic Republic of Congo</th>\n",
       "      <td>Nord-Kivu</td>\n",
       "      <td>254.0</td>\n",
       "    </tr>\n",
       "  </tbody>\n",
       "</table>\n",
       "</div>"
      ],
      "text/plain": [
       "                                         admin2  Counts15\n",
       "country                                                  \n",
       "Somalia                               Mogadisho     492.0\n",
       "Libya                                  Benghazi     431.0\n",
       "South Africa                  City of Cape Town     285.0\n",
       "Egypt                                     Rafah     256.0\n",
       "Democratic Republic of Congo          Nord-Kivu     254.0"
      ]
     },
     "execution_count": 44,
     "metadata": {},
     "output_type": "execute_result"
    }
   ],
   "source": [
    "#get ACLED16 by ADM2 #this should be turned into a function\n",
    "AC15_ADM2 = ACLED.admin2.value_counts()\n",
    "AC15_ADM2.head()\n",
    "col_list15 = ['admin2', 'country']\n",
    "clean15 = ACLED[col_list15].copy()\n",
    "clean15\n",
    "clean15['Counts15'] = clean15.groupby(['admin2'])['admin2'].transform('count')\n",
    "clean15.head()\n",
    "#delete duplicates admin2\n",
    "clean15.drop_duplicates('admin2', inplace = True)   \n",
    "clean15.set_index('country', inplace = True)\n",
    "clean15.sort_values('Counts15', ascending = False).head()"
   ]
  },
  {
   "cell_type": "code",
   "execution_count": 45,
   "metadata": {
    "scrolled": true
   },
   "outputs": [
    {
     "data": {
      "text/html": [
       "<div>\n",
       "<style>\n",
       "    .dataframe thead tr:only-child th {\n",
       "        text-align: right;\n",
       "    }\n",
       "\n",
       "    .dataframe thead th {\n",
       "        text-align: left;\n",
       "    }\n",
       "\n",
       "    .dataframe tbody tr th {\n",
       "        vertical-align: top;\n",
       "    }\n",
       "</style>\n",
       "<table border=\"1\" class=\"dataframe\">\n",
       "  <thead>\n",
       "    <tr style=\"text-align: right;\">\n",
       "      <th></th>\n",
       "      <th>admin2</th>\n",
       "      <th>Counts16</th>\n",
       "    </tr>\n",
       "    <tr>\n",
       "      <th>country</th>\n",
       "      <th></th>\n",
       "      <th></th>\n",
       "    </tr>\n",
       "  </thead>\n",
       "  <tbody>\n",
       "    <tr>\n",
       "      <th>Somalia</th>\n",
       "      <td>Mogadisho</td>\n",
       "      <td>541.0</td>\n",
       "    </tr>\n",
       "    <tr>\n",
       "      <th>Libya</th>\n",
       "      <td>Benghazi</td>\n",
       "      <td>343.0</td>\n",
       "    </tr>\n",
       "    <tr>\n",
       "      <th>South Africa</th>\n",
       "      <td>City of Cape Town</td>\n",
       "      <td>302.0</td>\n",
       "    </tr>\n",
       "    <tr>\n",
       "      <th>Democratic Republic of Congo</th>\n",
       "      <td>Nord-Kivu</td>\n",
       "      <td>269.0</td>\n",
       "    </tr>\n",
       "    <tr>\n",
       "      <th>Libya</th>\n",
       "      <td>Surt</td>\n",
       "      <td>238.0</td>\n",
       "    </tr>\n",
       "  </tbody>\n",
       "</table>\n",
       "</div>"
      ],
      "text/plain": [
       "                                         admin2  Counts16\n",
       "country                                                  \n",
       "Somalia                               Mogadisho     541.0\n",
       "Libya                                  Benghazi     343.0\n",
       "South Africa                  City of Cape Town     302.0\n",
       "Democratic Republic of Congo          Nord-Kivu     269.0\n",
       "Libya                                      Surt     238.0"
      ]
     },
     "execution_count": 45,
     "metadata": {},
     "output_type": "execute_result"
    }
   ],
   "source": [
    "#get ACLED16 by ADM2\n",
    "AC16_ADM2 = ACLED16.admin2.value_counts()\n",
    "AC16_ADM2.head()\n",
    "col_list16 = ['admin2', 'country']\n",
    "clean16 = ACLED16[col_list16].copy()\n",
    "clean16\n",
    "clean16['Counts16'] = clean16.groupby(['admin2'])['admin2'].transform('count')\n",
    "clean16.head()\n",
    "#delete duplicates admin2\n",
    "clean16.drop_duplicates('admin2', inplace = True)   \n",
    "clean16.set_index('country', inplace = True)\n",
    "clean16.sort_values('Counts16', ascending = False).head()"
   ]
  },
  {
   "cell_type": "code",
   "execution_count": 46,
   "metadata": {
    "scrolled": false
   },
   "outputs": [
    {
     "data": {
      "text/html": [
       "<div>\n",
       "<style>\n",
       "    .dataframe thead tr:only-child th {\n",
       "        text-align: right;\n",
       "    }\n",
       "\n",
       "    .dataframe thead th {\n",
       "        text-align: left;\n",
       "    }\n",
       "\n",
       "    .dataframe tbody tr th {\n",
       "        vertical-align: top;\n",
       "    }\n",
       "</style>\n",
       "<table border=\"1\" class=\"dataframe\">\n",
       "  <thead>\n",
       "    <tr style=\"text-align: right;\">\n",
       "      <th></th>\n",
       "      <th>admin2</th>\n",
       "      <th>Counts15</th>\n",
       "      <th>Counts16</th>\n",
       "    </tr>\n",
       "    <tr>\n",
       "      <th>country</th>\n",
       "      <th></th>\n",
       "      <th></th>\n",
       "      <th></th>\n",
       "    </tr>\n",
       "  </thead>\n",
       "  <tbody>\n",
       "    <tr>\n",
       "      <th>Somalia</th>\n",
       "      <td>Mogadisho</td>\n",
       "      <td>492.0</td>\n",
       "      <td>541.0</td>\n",
       "    </tr>\n",
       "    <tr>\n",
       "      <th>Libya</th>\n",
       "      <td>Benghazi</td>\n",
       "      <td>431.0</td>\n",
       "      <td>343.0</td>\n",
       "    </tr>\n",
       "    <tr>\n",
       "      <th>South Africa</th>\n",
       "      <td>City of Cape Town</td>\n",
       "      <td>285.0</td>\n",
       "      <td>302.0</td>\n",
       "    </tr>\n",
       "    <tr>\n",
       "      <th>Egypt</th>\n",
       "      <td>Rafah</td>\n",
       "      <td>256.0</td>\n",
       "      <td>170.0</td>\n",
       "    </tr>\n",
       "    <tr>\n",
       "      <th>Democratic Republic of Congo</th>\n",
       "      <td>Nord-Kivu</td>\n",
       "      <td>254.0</td>\n",
       "      <td>269.0</td>\n",
       "    </tr>\n",
       "  </tbody>\n",
       "</table>\n",
       "</div>"
      ],
      "text/plain": [
       "                                         admin2  Counts15  Counts16\n",
       "country                                                            \n",
       "Somalia                               Mogadisho     492.0     541.0\n",
       "Libya                                  Benghazi     431.0     343.0\n",
       "South Africa                  City of Cape Town     285.0     302.0\n",
       "Egypt                                     Rafah     256.0     170.0\n",
       "Democratic Republic of Congo          Nord-Kivu     254.0     269.0"
      ]
     },
     "execution_count": 46,
     "metadata": {},
     "output_type": "execute_result"
    }
   ],
   "source": [
    "#merge ACLED data\n",
    "totACLED = pd.merge(clean15, clean16, on=['admin2'],left_index=True )\n",
    "totACLED.sort_values('Counts15', ascending = False).head()"
   ]
  },
  {
   "cell_type": "code",
   "execution_count": 47,
   "metadata": {
    "scrolled": true
   },
   "outputs": [
    {
     "data": {
      "text/html": [
       "<div>\n",
       "<style>\n",
       "    .dataframe thead tr:only-child th {\n",
       "        text-align: right;\n",
       "    }\n",
       "\n",
       "    .dataframe thead th {\n",
       "        text-align: left;\n",
       "    }\n",
       "\n",
       "    .dataframe tbody tr th {\n",
       "        vertical-align: top;\n",
       "    }\n",
       "</style>\n",
       "<table border=\"1\" class=\"dataframe\">\n",
       "  <thead>\n",
       "    <tr style=\"text-align: right;\">\n",
       "      <th></th>\n",
       "      <th>admin2</th>\n",
       "      <th>Counts15</th>\n",
       "      <th>Counts16</th>\n",
       "      <th>fsi</th>\n",
       "      <th>water_stress</th>\n",
       "      <th>HDI</th>\n",
       "      <th>2015_events</th>\n",
       "      <th>2016_events</th>\n",
       "    </tr>\n",
       "  </thead>\n",
       "  <tbody>\n",
       "    <tr>\n",
       "      <th>Algeria</th>\n",
       "      <td>Biskra</td>\n",
       "      <td>2.0</td>\n",
       "      <td>12.0</td>\n",
       "      <td>79.6</td>\n",
       "      <td>3.444267</td>\n",
       "      <td>0.745</td>\n",
       "      <td>362.0</td>\n",
       "      <td>361.0</td>\n",
       "    </tr>\n",
       "    <tr>\n",
       "      <th>Algeria</th>\n",
       "      <td>Batna</td>\n",
       "      <td>7.0</td>\n",
       "      <td>5.0</td>\n",
       "      <td>79.6</td>\n",
       "      <td>3.444267</td>\n",
       "      <td>0.745</td>\n",
       "      <td>362.0</td>\n",
       "      <td>361.0</td>\n",
       "    </tr>\n",
       "    <tr>\n",
       "      <th>Algeria</th>\n",
       "      <td>Constantine</td>\n",
       "      <td>9.0</td>\n",
       "      <td>13.0</td>\n",
       "      <td>79.6</td>\n",
       "      <td>3.444267</td>\n",
       "      <td>0.745</td>\n",
       "      <td>362.0</td>\n",
       "      <td>361.0</td>\n",
       "    </tr>\n",
       "    <tr>\n",
       "      <th>Algeria</th>\n",
       "      <td>Oran</td>\n",
       "      <td>14.0</td>\n",
       "      <td>18.0</td>\n",
       "      <td>79.6</td>\n",
       "      <td>3.444267</td>\n",
       "      <td>0.745</td>\n",
       "      <td>362.0</td>\n",
       "      <td>361.0</td>\n",
       "    </tr>\n",
       "    <tr>\n",
       "      <th>Algeria</th>\n",
       "      <td>Azzefoun</td>\n",
       "      <td>2.0</td>\n",
       "      <td>2.0</td>\n",
       "      <td>79.6</td>\n",
       "      <td>3.444267</td>\n",
       "      <td>0.745</td>\n",
       "      <td>362.0</td>\n",
       "      <td>361.0</td>\n",
       "    </tr>\n",
       "  </tbody>\n",
       "</table>\n",
       "</div>"
      ],
      "text/plain": [
       "              admin2  Counts15  Counts16   fsi  water_stress    HDI  \\\n",
       "Algeria       Biskra       2.0      12.0  79.6      3.444267  0.745   \n",
       "Algeria        Batna       7.0       5.0  79.6      3.444267  0.745   \n",
       "Algeria  Constantine       9.0      13.0  79.6      3.444267  0.745   \n",
       "Algeria         Oran      14.0      18.0  79.6      3.444267  0.745   \n",
       "Algeria     Azzefoun       2.0       2.0  79.6      3.444267  0.745   \n",
       "\n",
       "         2015_events  2016_events  \n",
       "Algeria        362.0        361.0  \n",
       "Algeria        362.0        361.0  \n",
       "Algeria        362.0        361.0  \n",
       "Algeria        362.0        361.0  \n",
       "Algeria        362.0        361.0  "
      ]
     },
     "execution_count": 47,
     "metadata": {},
     "output_type": "execute_result"
    }
   ],
   "source": [
    "# Merge with other based on countries\n",
    "ADM2data = pd.merge(totACLED,data, how='inner', left_index=True, right_index=True)\n",
    "ADM2data.sort_values('Counts16', ascending = False).head()\n",
    "ADM2data.head()"
   ]
  },
  {
   "cell_type": "code",
   "execution_count": 48,
   "metadata": {},
   "outputs": [
    {
     "data": {
      "text/html": [
       "<div>\n",
       "<style>\n",
       "    .dataframe thead tr:only-child th {\n",
       "        text-align: right;\n",
       "    }\n",
       "\n",
       "    .dataframe thead th {\n",
       "        text-align: left;\n",
       "    }\n",
       "\n",
       "    .dataframe tbody tr th {\n",
       "        vertical-align: top;\n",
       "    }\n",
       "</style>\n",
       "<table border=\"1\" class=\"dataframe\">\n",
       "  <thead>\n",
       "    <tr style=\"text-align: right;\">\n",
       "      <th></th>\n",
       "      <th>admin2</th>\n",
       "      <th>Counts15</th>\n",
       "      <th>Counts16</th>\n",
       "      <th>fsi</th>\n",
       "      <th>water_stress</th>\n",
       "      <th>HDI</th>\n",
       "      <th>2015_events</th>\n",
       "      <th>2016_events</th>\n",
       "    </tr>\n",
       "  </thead>\n",
       "  <tbody>\n",
       "    <tr>\n",
       "      <th>Algeria</th>\n",
       "      <td>Biskra</td>\n",
       "      <td>2.0</td>\n",
       "      <td>12.0</td>\n",
       "      <td>79.6</td>\n",
       "      <td>3.444267</td>\n",
       "      <td>0.745</td>\n",
       "      <td>362.0</td>\n",
       "      <td>361.0</td>\n",
       "    </tr>\n",
       "    <tr>\n",
       "      <th>Algeria</th>\n",
       "      <td>Batna</td>\n",
       "      <td>7.0</td>\n",
       "      <td>5.0</td>\n",
       "      <td>79.6</td>\n",
       "      <td>3.444267</td>\n",
       "      <td>0.745</td>\n",
       "      <td>362.0</td>\n",
       "      <td>361.0</td>\n",
       "    </tr>\n",
       "    <tr>\n",
       "      <th>Algeria</th>\n",
       "      <td>Constantine</td>\n",
       "      <td>9.0</td>\n",
       "      <td>13.0</td>\n",
       "      <td>79.6</td>\n",
       "      <td>3.444267</td>\n",
       "      <td>0.745</td>\n",
       "      <td>362.0</td>\n",
       "      <td>361.0</td>\n",
       "    </tr>\n",
       "    <tr>\n",
       "      <th>Algeria</th>\n",
       "      <td>Oran</td>\n",
       "      <td>14.0</td>\n",
       "      <td>18.0</td>\n",
       "      <td>79.6</td>\n",
       "      <td>3.444267</td>\n",
       "      <td>0.745</td>\n",
       "      <td>362.0</td>\n",
       "      <td>361.0</td>\n",
       "    </tr>\n",
       "    <tr>\n",
       "      <th>Algeria</th>\n",
       "      <td>Azzefoun</td>\n",
       "      <td>2.0</td>\n",
       "      <td>2.0</td>\n",
       "      <td>79.6</td>\n",
       "      <td>3.444267</td>\n",
       "      <td>0.745</td>\n",
       "      <td>362.0</td>\n",
       "      <td>361.0</td>\n",
       "    </tr>\n",
       "  </tbody>\n",
       "</table>\n",
       "</div>"
      ],
      "text/plain": [
       "              admin2  Counts15  Counts16   fsi  water_stress    HDI  \\\n",
       "Algeria       Biskra       2.0      12.0  79.6      3.444267  0.745   \n",
       "Algeria        Batna       7.0       5.0  79.6      3.444267  0.745   \n",
       "Algeria  Constantine       9.0      13.0  79.6      3.444267  0.745   \n",
       "Algeria         Oran      14.0      18.0  79.6      3.444267  0.745   \n",
       "Algeria     Azzefoun       2.0       2.0  79.6      3.444267  0.745   \n",
       "\n",
       "         2015_events  2016_events  \n",
       "Algeria        362.0        361.0  \n",
       "Algeria        362.0        361.0  \n",
       "Algeria        362.0        361.0  \n",
       "Algeria        362.0        361.0  \n",
       "Algeria        362.0        361.0  "
      ]
     },
     "execution_count": 48,
     "metadata": {},
     "output_type": "execute_result"
    }
   ],
   "source": [
    "#fGet rid of columns\n",
    "#ADM2data.drop([8,9], axis=1)\n",
    "#del ADM2data['country']\n",
    "#del ADM2data['Counts']\n",
    "ADM2data.head()"
   ]
  },
  {
   "cell_type": "code",
   "execution_count": 49,
   "metadata": {
    "scrolled": true
   },
   "outputs": [
    {
     "data": {
      "text/plain": [
       "admin2          0\n",
       "Counts15        0\n",
       "Counts16        0\n",
       "fsi             0\n",
       "water_stress    0\n",
       "HDI             0\n",
       "2015_events     0\n",
       "2016_events     0\n",
       "dtype: int64"
      ]
     },
     "execution_count": 49,
     "metadata": {},
     "output_type": "execute_result"
    }
   ],
   "source": [
    "#fill in missing values for Counts15 and Counts16\n",
    "ADM2data.Counts15.fillna(value=0, inplace = True)\n",
    "ADM2data.Counts16.fillna(value=0, inplace = True)\n",
    "#delete anything else that has something missing\n",
    "ADM2data.dropna(axis=0, inplace = True)\n",
    "ADM2data.isnull().sum()"
   ]
  },
  {
   "cell_type": "code",
   "execution_count": 51,
   "metadata": {},
   "outputs": [
    {
     "data": {
      "text/plain": [
       "count    1130.000000\n",
       "mean       10.984071\n",
       "std        25.616953\n",
       "min         1.000000\n",
       "25%         2.000000\n",
       "50%         4.000000\n",
       "75%        10.000000\n",
       "max       431.000000\n",
       "Name: Counts15, dtype: float64"
      ]
     },
     "execution_count": 51,
     "metadata": {},
     "output_type": "execute_result"
    }
   ],
   "source": [
    "ADM2data.Counts15.describe()"
   ]
  },
  {
   "cell_type": "code",
   "execution_count": 50,
   "metadata": {},
   "outputs": [
    {
     "data": {
      "text/plain": [
       "[Text(0,0.5,'Number of Events in 2016'), Text(0.5,0,'admin2')]"
      ]
     },
     "execution_count": 50,
     "metadata": {},
     "output_type": "execute_result"
    },
    {
     "data": {
      "image/png": "[encoded data removed]",
      "text/plain": [
       "<Figure size 720x144 with 1 Axes>"
      ]
     },
     "metadata": {},
     "output_type": "display_data"
    }
   ],
   "source": [
    "#Graph it\n",
    "#ax = ADM2data.plot.bar(x='admin2', y='Counts15', lw=2, colormap='jet',figsize=(10,2))\n",
    "#ax.set(xlabel='admin2', ylabel=\"Number of Events in 2016\")"
   ]
  },
  {
   "cell_type": "markdown",
   "metadata": {},
   "source": [
    "# Random Forest ADM-2"
   ]
  },
  {
   "cell_type": "code",
   "execution_count": 196,
   "metadata": {},
   "outputs": [],
   "source": [
    "from sklearn.ensemble import RandomForestRegressor"
   ]
  },
  {
   "cell_type": "code",
   "execution_count": 197,
   "metadata": {},
   "outputs": [],
   "source": [
    "#Reassign X and Y\n",
    "feature_cols = ['fsi', 'water_stress', 'HDI', 'Counts15']\n",
    "X = ADM2data[feature_cols] #feat is list called HDI \n",
    "y = ADM2data['Counts16']"
   ]
  },
  {
   "cell_type": "code",
   "execution_count": 198,
   "metadata": {},
   "outputs": [
    {
     "data": {
      "text/plain": [
       "RandomForestRegressor(bootstrap=True, criterion='mse', max_depth=None,\n",
       "           max_features=4, max_leaf_nodes=None, min_impurity_split=1e-07,\n",
       "           min_samples_leaf=1, min_samples_split=2,\n",
       "           min_weight_fraction_leaf=0.0, n_estimators=150, n_jobs=1,\n",
       "           oob_score=True, random_state=1, verbose=0, warm_start=False)"
      ]
     },
     "execution_count": 198,
     "metadata": {},
     "output_type": "execute_result"
    }
   ],
   "source": [
    "# max_features=5 is best and n_estimators=150 is sufficiently large.\n",
    "rfreg = RandomForestRegressor(n_estimators=150, max_features=4, oob_score=True, random_state=1)\n",
    "rfreg.fit(X, y)"
   ]
  },
  {
   "cell_type": "code",
   "execution_count": 200,
   "metadata": {},
   "outputs": [
    {
     "data": {
      "text/html": [
       "<div>\n",
       "<style>\n",
       "    .dataframe thead tr:only-child th {\n",
       "        text-align: right;\n",
       "    }\n",
       "\n",
       "    .dataframe thead th {\n",
       "        text-align: left;\n",
       "    }\n",
       "\n",
       "    .dataframe tbody tr th {\n",
       "        vertical-align: top;\n",
       "    }\n",
       "</style>\n",
       "<table border=\"1\" class=\"dataframe\">\n",
       "  <thead>\n",
       "    <tr style=\"text-align: right;\">\n",
       "      <th></th>\n",
       "      <th>feature</th>\n",
       "      <th>importance</th>\n",
       "    </tr>\n",
       "  </thead>\n",
       "  <tbody>\n",
       "    <tr>\n",
       "      <th>1</th>\n",
       "      <td>water_stress</td>\n",
       "      <td>0.043394</td>\n",
       "    </tr>\n",
       "    <tr>\n",
       "      <th>0</th>\n",
       "      <td>fsi</td>\n",
       "      <td>0.044536</td>\n",
       "    </tr>\n",
       "    <tr>\n",
       "      <th>2</th>\n",
       "      <td>HDI</td>\n",
       "      <td>0.069642</td>\n",
       "    </tr>\n",
       "    <tr>\n",
       "      <th>3</th>\n",
       "      <td>Counts15</td>\n",
       "      <td>0.842428</td>\n",
       "    </tr>\n",
       "  </tbody>\n",
       "</table>\n",
       "</div>"
      ],
      "text/plain": [
       "        feature  importance\n",
       "1  water_stress    0.043394\n",
       "0           fsi    0.044536\n",
       "2           HDI    0.069642\n",
       "3      Counts15    0.842428"
      ]
     },
     "execution_count": 200,
     "metadata": {},
     "output_type": "execute_result"
    }
   ],
   "source": [
    "# Compute feature importances.\n",
    "pd.DataFrame({'feature':feature_cols, 'importance':rfreg.feature_importances_}).sort_values(by='importance')"
   ]
  },
  {
   "cell_type": "code",
   "execution_count": 201,
   "metadata": {},
   "outputs": [
    {
     "name": "stdout",
     "output_type": "stream",
     "text": [
      "0.673463411868\n"
     ]
    },
    {
     "data": {
      "text/plain": [
       "14.399157561323685"
      ]
     },
     "execution_count": 201,
     "metadata": {},
     "output_type": "execute_result"
    }
   ],
   "source": [
    "# Compute the out-of-bag R-squared score.\n",
    "print((rfreg.oob_score_))\n",
    "\n",
    "# Find the average RMSE.\n",
    "scores = cross_val_score(rfreg, X, y, cv=10, scoring='neg_mean_squared_error')\n",
    "np.mean(np.sqrt(-scores))"
   ]
  }
 ],
 "metadata": {
  "kernelspec": {
   "display_name": "Python 3",
   "language": "python",
   "name": "python3"
  },
  "language_info": {
   "codemirror_mode": {
    "name": "ipython",
    "version": 3
   },
   "file_extension": ".py",
   "mimetype": "text/x-python",
   "name": "python",
   "nbconvert_exporter": "python",
   "pygments_lexer": "ipython3",
   "version": "3.6.5"
  }
 },
 "nbformat": 4,
 "nbformat_minor": 2
}
